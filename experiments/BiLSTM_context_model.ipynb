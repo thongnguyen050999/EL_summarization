{
 "cells": [
  {
   "cell_type": "code",
   "execution_count": 29,
   "metadata": {},
   "outputs": [],
   "source": [
    "import tensorflow as tf\n",
    "from tensorflow.keras import Model\n",
    "from tensorflow.keras.layers import Input,Embedding,concatenate,Bidirectional,LSTM,Dense,Dropout"
   ]
  },
  {
   "cell_type": "code",
   "execution_count": 20,
   "metadata": {},
   "outputs": [],
   "source": [
    "dict_size=100"
   ]
  },
  {
   "cell_type": "code",
   "execution_count": 30,
   "metadata": {},
   "outputs": [],
   "source": [
    "inp_0=Input(shape=(20,))\n",
    "inp_1=Input(shape=(20,))\n",
    "embed=Embedding(input_dim=dict_size,output_dim=100,input_length=20)(inp_0)\n",
    "out_0=Bidirectional(LSTM(128))(embed)\n",
    "w=concatenate([out_0,inp_1])\n",
    "w=Dense(256,activation='relu')(w)\n",
    "w=Dropout(0.2)(w)\n",
    "out=Dense(1,activation='sigmoid')(w)\n",
    "model=Model(inputs=[inp_0,inp_1],outputs=out)"
   ]
  }
 ],
 "metadata": {
  "kernelspec": {
   "display_name": "Python 3",
   "language": "python",
   "name": "python3"
  },
  "language_info": {
   "codemirror_mode": {
    "name": "ipython",
    "version": 3
   },
   "file_extension": ".py",
   "mimetype": "text/x-python",
   "name": "python",
   "nbconvert_exporter": "python",
   "pygments_lexer": "ipython3",
   "version": "3.7.4"
  }
 },
 "nbformat": 4,
 "nbformat_minor": 4
}
